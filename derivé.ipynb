{
 "cells": [
  {
   "cell_type": "markdown",
   "metadata": {
    "id": "pkAPBF9g52wf"
   },
   "source": [
    "# Step 1"
   ]
  },
  {
   "cell_type": "markdown",
   "metadata": {},
   "source": [
    "## Question 1"
   ]
  },
  {
   "cell_type": "markdown",
   "metadata": {},
   "source": [
    "Yes: in the context of binomial model for option pricing, the put-call parity relationship applies for European options. Given the assumption of no arbitrage market and that the call and put options are written on the same underlying asset, with same strike price and expiration date, the reason for the fact that this relationship applies to European options is that a portfolio of a call and a put, under the previously mentioned assumptions, should be able to replicate the payoff of a portfolio made of only the underlying asset."
   ]
  },
  {
   "cell_type": "markdown",
   "metadata": {},
   "source": [
    "## Question 2"
   ]
  },
  {
   "cell_type": "markdown",
   "metadata": {},
   "source": [
    "Given the original formula of put-call parity condition:\n",
    "\n",
    "$$ S + P = C + Ke^{-rt} $$\n",
    "\n",
    "If we rewrite this for the call price in terms of everything else, we get:\n",
    "\n",
    "$$ C = S + P - Ke^{-rt} $$"
   ]
  },
  {
   "cell_type": "markdown",
   "metadata": {},
   "source": [
    "## Question 3"
   ]
  },
  {
   "cell_type": "markdown",
   "metadata": {},
   "source": [
    "Given the original formula of put-call parity condition:\n",
    "\n",
    "$$ S + P = C + Ke^{-rt} $$\n",
    "\n",
    "If we rewrite this for the put price in terms of everything else, we get:\n",
    "\n",
    "$$ P = C - S + Ke^{-rt} $$"
   ]
  },
  {
   "cell_type": "markdown",
   "metadata": {},
   "source": [
    "## Question 4"
   ]
  },
  {
   "cell_type": "markdown",
   "metadata": {},
   "source": [
    "Yes: in the context of binomial model for option pricing, the put-call parity relationship applies also for American options, again for the same reason about the no arbitrage market assumption. The only difference with European options is that with the American ones you also have the possibility of early exercise: due to this, for American options, the put-call parity is often considered as an inequality, rather than an equation."
   ]
  },
  {
   "cell_type": "markdown",
   "metadata": {
    "id": "xCtqXb_P-YR4"
   },
   "source": [
    "## Question 5"
   ]
  },
  {
   "cell_type": "code",
   "execution_count": 1,
   "metadata": {},
   "outputs": [],
   "source": [
    "import numpy as np"
   ]
  },
  {
   "cell_type": "code",
   "execution_count": 2,
   "metadata": {
    "executionInfo": {
     "elapsed": 3,
     "status": "ok",
     "timestamp": 1691667640905,
     "user": {
      "displayName": "Alberto Mameli",
      "userId": "07616004484567234507"
     },
     "user_tz": -120
    },
    "id": "53eLFMntxCH7"
   },
   "outputs": [],
   "source": [
    "def european_option(S_ini, K, T, r, sigma, N, opttype):\n",
    "    dt = T / N  # Define time step\n",
    "    u = np.exp(sigma * np.sqrt(dt))  # Define u\n",
    "    d = np.exp(-sigma * np.sqrt(dt))  # Define d\n",
    "    p = (np.exp(r * dt) - d) / (u - d)  # risk neutral probs\n",
    "    C = np.zeros([N + 1, N + 1])  # call prices\n",
    "    S = np.zeros([N + 1, N + 1])  # underlying price\n",
    "    Delta = np.zeros([N, N])  # delta\n",
    "\n",
    "    for i in range(0, N + 1):\n",
    "        S[N, i] = S_ini * (u ** (i)) * (d ** (N - i))\n",
    "        if opttype == \"C\":\n",
    "            C[N, i] = max(S[N, i] - K, 0)\n",
    "        else:\n",
    "            C[N, i] = max(K - S[N, i], 0)\n",
    "\n",
    "    for j in range(N - 1, -1, -1):\n",
    "        for i in range(0, j + 1):\n",
    "            C[j, i] = np.exp(-r * dt) * (\n",
    "                p * C[j + 1, i + 1] + (1 - p) * C[j + 1, i]\n",
    "            )  # Computing the European option prices\n",
    "            S[j, i] = (\n",
    "                S_ini * (u ** (i)) * (d ** (j - i))\n",
    "            )  # Underlying evolution for each node\n",
    "\n",
    "            Delta[j, i] = (C[j + 1, i + 1] - C[j + 1, i]) / (\n",
    "                S[j + 1, i + 1] - S[j + 1, i]\n",
    "            )  # Computing the delta for each node\n",
    "\n",
    "    return C[0, 0], C, S, Delta"
   ]
  },
  {
   "cell_type": "code",
   "execution_count": 3,
   "metadata": {},
   "outputs": [],
   "source": [
    "euro_C, C, S, Delta = european_option(\n",
    "    100, 100, 3/12, .05, .2, 100, \"C\"\n",
    ")"
   ]
  },
  {
   "cell_type": "code",
   "execution_count": 4,
   "metadata": {},
   "outputs": [
    {
     "name": "stdout",
     "output_type": "stream",
     "text": [
      "Call option price is 4.61 and his delta at inception is 0.2562564747816845\n"
     ]
    }
   ],
   "source": [
    "print(\"Call option price is {} and his delta at inception is {}\".format(round(euro_C,2) ,np.mean(Delta)))"
   ]
  },
  {
   "cell_type": "code",
   "execution_count": 5,
   "metadata": {
    "executionInfo": {
     "elapsed": 1634,
     "status": "ok",
     "timestamp": 1691667642537,
     "user": {
      "displayName": "Alberto Mameli",
      "userId": "07616004484567234507"
     },
     "user_tz": -120
    },
    "id": "XYpS8AW3xFYV"
   },
   "outputs": [],
   "source": [
    "euro_P, P, S, Delta = european_option(\n",
    "    100, 100, 3/12, .05, .2, 100, \"P\"\n",
    ")"
   ]
  },
  {
   "cell_type": "code",
   "execution_count": 6,
   "metadata": {
    "colab": {
     "base_uri": "https://localhost:8080/"
    },
    "executionInfo": {
     "elapsed": 3,
     "status": "ok",
     "timestamp": 1691667642537,
     "user": {
      "displayName": "Alberto Mameli",
      "userId": "07616004484567234507"
     },
     "user_tz": -120
    },
    "id": "-ZmTXJfZ8xmI",
    "outputId": "6b5ac612-e567-4de3-b717-b40f389b66eb"
   },
   "outputs": [
    {
     "name": "stdout",
     "output_type": "stream",
     "text": [
      "Put option price is 3.36 and his delta at inception is -0.24874352521831455\n"
     ]
    }
   ],
   "source": [
    "print(\"Put option price is {} and his delta at inception is {}\".format(round(euro_P,2) ,np.mean(Delta)))"
   ]
  },
  {
   "cell_type": "markdown",
   "metadata": {},
   "source": [
    "### Question 5a"
   ]
  },
  {
   "cell_type": "markdown",
   "metadata": {},
   "source": [
    "The number of steps decided for this task is 100, the reasoning is provided in answer 5b."
   ]
  },
  {
   "cell_type": "markdown",
   "metadata": {
    "id": "3yPVyTvP-gXI"
   },
   "source": [
    "### Question 5b\n",
    "\n",
    "The code above is a function which calculates u and d, starting from sigma and calculates the prices of European call or put option, depending on which one you choose, and delta calculation. Given initial stock price S_ini, strike price K, time to maturity T, risk-free rate r, volatility sigma, number of time steps N, the function uses a binomial model to produce stock evolution, option prices and deltas at each node. Delta represents the sensitivity of the option price to changes in the underlying stock price. The function returns arrays containing the evolution of stock price paths, corresponding call option prices, and their respective deltas.\n",
    "\n",
    "Choosing N involves a balance between accuracy and efficiency. Larger N values provide more accurate results by capturing finer price movements, but increase computation time. Start with a reasonable value, gradually increasing it while observing convergence. Consider computational resources, stability, and the accuracy needed for your comparison or application.\n",
    "We decided to go for number of steps equal to 100 because the volatility is high (20%) and this requires a significantly high number of steps to eventually capture the price movements.\n"
   ]
  },
  {
   "cell_type": "markdown",
   "metadata": {},
   "source": [
    "### Question 6a"
   ]
  },
  {
   "cell_type": "markdown",
   "metadata": {},
   "source": [
    "The delta for the call option resulted in 0.25, which means that we need to buy 0.25 shares at time 0 in order to do hedging. For the put option, the delta is -0.25 and this means that we need to short-sell 0.25 shares of the stock at time 0 in order to do hedging."
   ]
  },
  {
   "cell_type": "markdown",
   "metadata": {
    "id": "qvgPI_8oKQmJ"
   },
   "source": [
    "### Question 6b\n",
    "\n",
    "Delta measures how an option's price changes with the underlying asset's price. For put options, Delta is negative (reflecting price decrease with underlying increase), and for call options, it's positive (price increase with underlying increase). This reflects the option's directional sensitivity and helps manage portfolio risk."
   ]
  },
  {
   "cell_type": "markdown",
   "metadata": {
    "id": "HhXIqz8M-V7_"
   },
   "source": [
    "### Question 7a"
   ]
  },
  {
   "cell_type": "code",
   "execution_count": 7,
   "metadata": {
    "colab": {
     "base_uri": "https://localhost:8080/"
    },
    "executionInfo": {
     "elapsed": 2375,
     "status": "ok",
     "timestamp": 1691667645880,
     "user": {
      "displayName": "Alberto Mameli",
      "userId": "07616004484567234507"
     },
     "user_tz": -120
    },
    "id": "cOfG9AsRMurB",
    "outputId": "3e43627a-20ff-40a3-c2f2-5b9a20b27fb6"
   },
   "outputs": [
    {
     "name": "stdout",
     "output_type": "stream",
     "text": [
      "Call option price is 15.39\n",
      "Put option price is 8.03\n"
     ]
    }
   ],
   "source": [
    "euro_C, C, S, Delta = european_option(\n",
    "    100, 100, 3/12, .05, .25, 100, \"C\"\n",
    ")\n",
    "\n",
    "euro_P, P, S, Delta = european_option(\n",
    "    100, 100, 3/12, .05, .25, 100, \"P\"\n",
    ")\n",
    "\n",
    "print(\"Call option price is {}\".format(round(np.mean(C),2)))\n",
    "print(\"Put option price is {}\".format(round(np.mean(P),2)))"
   ]
  },
  {
   "cell_type": "markdown",
   "metadata": {},
   "source": [
    "In fact, call option price in the case with higher volatility is higher (15.39) than the first call option price (4.61) and also the new put option price (8.03) is higher than the previous one (3.36)."
   ]
  },
  {
   "cell_type": "markdown",
   "metadata": {},
   "source": [
    "### Question 7b"
   ]
  },
  {
   "cell_type": "markdown",
   "metadata": {
    "id": "Wgb7MwWnwuge"
   },
   "source": [
    "Volatility changes impact call and put options differently. An increase in volatility generally benefits both options, raising their premiums. However, this effect is more pronounced for options that are out-of-the-money (OTM), as they have higher potential for larger price swings. In contrast, in-the-money (ITM) options' premiums are less influenced by volatility changes due to their intrinsic value being dominant."
   ]
  },
  {
   "cell_type": "markdown",
   "metadata": {
    "id": "8SMzZoRE554h"
   },
   "source": [
    "# Step 2"
   ]
  },
  {
   "cell_type": "markdown",
   "metadata": {},
   "source": [
    "## Question 8"
   ]
  },
  {
   "cell_type": "code",
   "execution_count": 8,
   "metadata": {},
   "outputs": [],
   "source": [
    "def american_option_vol(S_ini, K, T, r, sigma, N, opttype):\n",
    "    dt = T / N  # Define time step\n",
    "    u = np.exp(sigma * np.sqrt(dt))  # Define u\n",
    "    d = np.exp(-sigma * np.sqrt(dt))  # Define d\n",
    "    p = (np.exp(r * dt) - d) / (u - d)  # risk neutral probs\n",
    "    C = np.zeros([N + 1, N + 1])  # call prices\n",
    "    S = np.zeros([N + 1, N + 1])  # underlying price\n",
    "\n",
    "    for i in range(0, N + 1):\n",
    "        S[N, i] = S_ini * (u ** (i)) * (d ** (N - i))\n",
    "        if opttype == \"C\":\n",
    "            C[N, i] = max(S[N, i] - K, 0)\n",
    "        else:\n",
    "            C[N, i] = max(K - S[N, i], 0)\n",
    "\n",
    "    for j in range(N - 1, -1, -1):\n",
    "        for i in range(0, j + 1):\n",
    "            C[j, i] = np.exp(-r * dt) * (\n",
    "                p * C[j + 1, i + 1] + (1 - p) * C[j + 1, i]\n",
    "            )  # Computing the European option prices\n",
    "            S[j, i] = (\n",
    "                S_ini * (u ** (i)) * (d ** (j - i))\n",
    "            )  # Underlying evolution for each node\n",
    "            if opttype == \"C\":\n",
    "                C[j, i] = max(\n",
    "                    C[j, i], S[j, i] - K\n",
    "                )  # Decision between the European option price and the payoff from early-exercise\n",
    "            else:\n",
    "                C[j, i] = max(\n",
    "                    C[j, i], K - S[j, i]\n",
    "                )  # Decision between the European option price and the payoff from early-exercise\n",
    "\n",
    "    return C[0, 0], C, S"
   ]
  },
  {
   "cell_type": "code",
   "execution_count": 9,
   "metadata": {},
   "outputs": [
    {
     "data": {
      "text/plain": [
       "4.61"
      ]
     },
     "execution_count": 9,
     "metadata": {},
     "output_type": "execute_result"
    }
   ],
   "source": [
    "bi_american_call, C, S = american_option_vol(100, 100, 3/12, 0.05, 0.2, 100, \"C\")\n",
    "round(bi_american_call,2)"
   ]
  },
  {
   "cell_type": "code",
   "execution_count": 10,
   "metadata": {},
   "outputs": [
    {
     "data": {
      "text/plain": [
       "3.47"
      ]
     },
     "execution_count": 10,
     "metadata": {},
     "output_type": "execute_result"
    }
   ],
   "source": [
    "bi_american_put, P, S = american_option_vol(100, 100, 3/12, 0.05, 0.2, 100, \"P\")\n",
    "round(bi_american_put,2)"
   ]
  },
  {
   "cell_type": "markdown",
   "metadata": {},
   "source": [
    "### Question 8b"
   ]
  },
  {
   "cell_type": "markdown",
   "metadata": {},
   "source": [
    "To determine the right number of steps, we can take different factors into account. In our case, where we are looking for simplified modelling or an overview, we need a smaller number of steps. It is also important to consider the resources available. A tree with a large number of steps may require more memory and computing time. In this case, we will have to find a compromise between the accuracy of our model and resource constraints. Ultimately, the choice of the number of steps in a binary tree is a subjective decision that depends on our objective and the specific constraints of our situation."
   ]
  },
  {
   "cell_type": "markdown",
   "metadata": {},
   "source": [
    "## Question 9"
   ]
  },
  {
   "cell_type": "code",
   "execution_count": 11,
   "metadata": {},
   "outputs": [],
   "source": [
    "def american_option(S_ini, K, T, r, u, d, N, opttype):\n",
    "    dt = T / N  # Define time step\n",
    "    p = (np.exp(r * dt) - d) / (u - d)  # risk neutral probs\n",
    "    C = np.zeros([N + 1, N + 1])  # call prices\n",
    "    S = np.zeros([N + 1, N + 1])  # underlying price\n",
    "    Delta = np.zeros([N, N])  # delta\n",
    "\n",
    "    for i in range(0, N + 1):\n",
    "        S[N, i] = S_ini * (u ** (i)) * (d ** (N - i))\n",
    "        if opttype == \"C\":\n",
    "            C[N, i] = max(S[N, i] - K, 0)\n",
    "        else:\n",
    "            C[N, i] = max(K - S[N, i], 0)\n",
    "\n",
    "    for j in range(N - 1, -1, -1):\n",
    "        for i in range(0, j + 1):\n",
    "            C[j, i] = np.exp(-r * dt) * (\n",
    "                p * C[j + 1, i + 1] + (1 - p) * C[j + 1, i]\n",
    "            )  # Computing the European option prices\n",
    "            S[j, i] = (\n",
    "                S_ini * (u ** (i)) * (d ** (j - i))\n",
    "            )  # Underlying evolution for each node\n",
    "            if opttype == \"C\":\n",
    "                C[j, i] = max(\n",
    "                    C[j, i], S[j, i] - K\n",
    "                )  # Decision between the European option price and the payoff from early-exercise\n",
    "            else:\n",
    "                C[j, i] = max(\n",
    "                    C[j, i], K - S[j, i]\n",
    "                )  # Decision between the European option price and the payoff from early-exercise\n",
    "\n",
    "            Delta[j, i] = (C[j + 1, i + 1] - C[j + 1, i]) / (\n",
    "                S[j + 1, i + 1] - S[j + 1, i]\n",
    "            )  # Computing the delta for each node\n",
    "\n",
    "    return C[0, 0], C, S, Delta"
   ]
  },
  {
   "cell_type": "code",
   "execution_count": 12,
   "metadata": {},
   "outputs": [],
   "source": [
    "price, C, S, delta = american_option(100, 101, 3/12, 0.05, 1.1, 0.9 , 10, \"C\")"
   ]
  },
  {
   "cell_type": "code",
   "execution_count": 13,
   "metadata": {},
   "outputs": [
    {
     "data": {
      "text/plain": [
       "array([[0.56331283, 0.        , 0.        , 0.        , 0.        ,\n",
       "        0.        , 0.        , 0.        , 0.        , 0.        ],\n",
       "       [0.41866527, 0.67873686, 0.        , 0.        , 0.        ,\n",
       "        0.        , 0.        , 0.        , 0.        , 0.        ],\n",
       "       [0.26710308, 0.53960694, 0.78975798, 0.        , 0.        ,\n",
       "        0.        , 0.        , 0.        , 0.        , 0.        ],\n",
       "       [0.13175214, 0.37510871, 0.67087116, 0.88462579, 0.        ,\n",
       "        0.        , 0.        , 0.        , 0.        , 0.        ],\n",
       "       [0.03836082, 0.20627537, 0.50983219, 0.79937498, 0.95265315,\n",
       "        0.        , 0.        , 0.        , 0.        , 0.        ],\n",
       "       [0.        , 0.06897149, 0.31583938, 0.66463212, 0.90689539,\n",
       "        0.98916634, 0.        , 0.        , 0.        , 0.        ],\n",
       "       [0.        , 0.        , 0.12400849, 0.46891415, 0.82080866,\n",
       "        0.97558978, 1.        , 0.        , 0.        , 0.        ],\n",
       "       [0.        , 0.        , 0.        , 0.22296322, 0.66517496,\n",
       "        0.94499928, 1.        , 1.        , 0.        , 0.        ],\n",
       "       [0.        , 0.        , 0.        , 0.        , 0.40088058,\n",
       "        0.87607324, 1.        , 1.        , 1.        , 0.        ],\n",
       "       [0.        , 0.        , 0.        , 0.        , 0.        ,\n",
       "        0.72077019, 1.        , 1.        , 1.        , 1.        ]])"
      ]
     },
     "execution_count": 13,
     "metadata": {},
     "output_type": "execute_result"
    }
   ],
   "source": [
    "delta"
   ]
  },
  {
   "cell_type": "code",
   "execution_count": 14,
   "metadata": {},
   "outputs": [],
   "source": [
    "price, P, S, delta = american_option(100, 101, 1/4, 0.05, 1.1, 0.9 , 10, \"P\")"
   ]
  },
  {
   "cell_type": "code",
   "execution_count": 15,
   "metadata": {},
   "outputs": [
    {
     "data": {
      "text/plain": [
       "array([[-0.44282849,  0.        ,  0.        ,  0.        ,  0.        ,\n",
       "         0.        ,  0.        ,  0.        ,  0.        ,  0.        ],\n",
       "       [-0.59012015, -0.32529456,  0.        ,  0.        ,  0.        ,\n",
       "         0.        ,  0.        ,  0.        ,  0.        ,  0.        ],\n",
       "       [-0.74487382, -0.46663178, -0.21251207,  0.        ,  0.        ,\n",
       "         0.        ,  0.        ,  0.        ,  0.        ,  0.        ],\n",
       "       [-0.88370459, -0.63409141, -0.33300447, -0.11636307,  0.        ,\n",
       "         0.        ,  0.        ,  0.        ,  0.        ,  0.        ],\n",
       "       [-0.98044559, -0.80650843, -0.49650826, -0.2025338 , -0.04760165,\n",
       "         0.        ,  0.        ,  0.        ,  0.        ,  0.        ],\n",
       "       [-1.        , -0.94755393, -0.69395872, -0.33894924, -0.09367873,\n",
       "        -0.01083366,  0.        ,  0.        ,  0.        ,  0.        ],\n",
       "       [-1.        , -1.        , -0.88998743, -0.53753421, -0.18048492,\n",
       "        -0.02441022,  0.        ,  0.        ,  0.        ,  0.        ],\n",
       "       [-1.        , -1.        , -1.        , -0.7879135 , -0.33773973,\n",
       "        -0.05500072,  0.        ,  0.        ,  0.        ,  0.        ],\n",
       "       [-1.        , -1.        , -1.        , -1.        , -0.60568675,\n",
       "        -0.12392676,  0.        ,  0.        ,  0.        ,  0.        ],\n",
       "       [-1.        , -1.        , -1.        , -1.        , -1.        ,\n",
       "        -0.27922981,  0.        ,  0.        ,  0.        ,  0.        ]])"
      ]
     },
     "execution_count": 15,
     "metadata": {},
     "output_type": "execute_result"
    }
   ],
   "source": [
    "delta"
   ]
  },
  {
   "cell_type": "markdown",
   "metadata": {},
   "source": [
    "### Question 9a,b"
   ]
  },
  {
   "cell_type": "markdown",
   "metadata": {},
   "source": [
    "9-b-a) The delta of the American call option is positive while that of the American put option is negative.\n",
    "\n",
    "The delta of an option measures the change in the option price relative to the change in the price of the underlying asset. For an American call option, the delta is generally positive, which means that when the price of the underlying asset rises, the price of the call option also rises. This is because by owning a call option, you have the right to buy the underlying asset at a predetermined price, and when the price of the asset rises, so does the value of that right. The delta of a put option is generally negative, which means that when the price of the underlying asset rises, the price of the put option falls, but this is because when you hold a put option, you have the right to sell the underlying asset at a predetermined price. When the price of the asset rises, the value of this right falls because it would be less advantageous to sell the asset at a price lower than the market price.\n",
    "\n",
    "It is important to have a positive delta for an American call option, which means that its value increases as the price rises, whereas a negative delta for an American put option means that its value increases as the price falls."
   ]
  },
  {
   "cell_type": "markdown",
   "metadata": {},
   "source": [
    "## Question 10"
   ]
  },
  {
   "cell_type": "code",
   "execution_count": 16,
   "metadata": {},
   "outputs": [
    {
     "name": "stdout",
     "output_type": "stream",
     "text": [
      "5.088936800356215\n"
     ]
    }
   ],
   "source": [
    "price, C, S = american_option_vol(100, 101, 1/4, 0.05, 0.25, 10, \"C\")\n",
    "print(price)"
   ]
  },
  {
   "cell_type": "markdown",
   "metadata": {},
   "source": [
    "vega3 = 5.08 - 4.11 = 0.97 dollars\n",
    "\n",
    "Now let's calculate the different vega for a put"
   ]
  },
  {
   "cell_type": "code",
   "execution_count": 17,
   "metadata": {},
   "outputs": [
    {
     "name": "stdout",
     "output_type": "stream",
     "text": [
      "4.99122130513475\n"
     ]
    }
   ],
   "source": [
    "price, C, S = american_option_vol(100, 101, 1/4, 0.05, 0.25, 10, \"P\")\n",
    "print(price)"
   ]
  },
  {
   "cell_type": "markdown",
   "metadata": {},
   "source": [
    "vega6 = 4.99 - 4.01 = 0.98 dollars\n",
    "\n",
    "b) the change in volatility has the same impact on American call options as on American put options"
   ]
  },
  {
   "cell_type": "markdown",
   "metadata": {},
   "source": [
    "## Question 11"
   ]
  },
  {
   "cell_type": "code",
   "execution_count": 18,
   "metadata": {},
   "outputs": [
    {
     "data": {
      "text/plain": [
       "104.48"
      ]
     },
     "execution_count": 18,
     "metadata": {},
     "output_type": "execute_result"
    }
   ],
   "source": [
    "euro_C, C, S, Delta = european_option(\n",
    "    100, 100, 3/12, .05, .2, 100, \"C\"\n",
    ")\n",
    "\n",
    "euro_P, P, S, Delta = european_option(\n",
    "    100, 100, 3/12, .05, .2, 100, \"P\"\n",
    ")\n",
    "\n",
    "round(euro_C + 100 * np.exp(-0.5 * (0.25/100)), 2)"
   ]
  },
  {
   "cell_type": "code",
   "execution_count": 19,
   "metadata": {},
   "outputs": [
    {
     "data": {
      "text/plain": [
       "103.36"
      ]
     },
     "execution_count": 19,
     "metadata": {},
     "output_type": "execute_result"
    }
   ],
   "source": [
    "round(S[0, 0] + euro_P, 2)"
   ]
  },
  {
   "cell_type": "code",
   "execution_count": 20,
   "metadata": {},
   "outputs": [
    {
     "data": {
      "text/plain": [
       "False"
      ]
     },
     "execution_count": 20,
     "metadata": {},
     "output_type": "execute_result"
    }
   ],
   "source": [
    "round(euro_C + 100 * np.exp(-0.5 * (0.25/100)), 2) == round(S[0, 0] + euro_P, 2)"
   ]
  },
  {
   "cell_type": "markdown",
   "metadata": {},
   "source": [
    "The possible reasons why the two components of the put-call parity slightly differ are the eventual presence of dividends or transaction costs and taxes or it could simply be due to model errors but also on calculations and approximations."
   ]
  },
  {
   "cell_type": "markdown",
   "metadata": {},
   "source": [
    "## Question 12"
   ]
  },
  {
   "cell_type": "code",
   "execution_count": 21,
   "metadata": {},
   "outputs": [
    {
     "data": {
      "text/plain": [
       "False"
      ]
     },
     "execution_count": 21,
     "metadata": {},
     "output_type": "execute_result"
    }
   ],
   "source": [
    "bi_american_call, C, S = american_option_vol(100, 101, 1/4, 0.05, 0.2, 10, \"C\")\n",
    "\n",
    "bi_american_put, C, S = american_option_vol(100, 101, 1/4, 0.05, 0.2, 10, \"P\")\n",
    "\n",
    "round(bi_american_call + 101 * np.exp(-0.5 * (0.25/10)), 2) == round(S[0, 0] + bi_american_put, 2)"
   ]
  },
  {
   "cell_type": "code",
   "execution_count": 22,
   "metadata": {},
   "outputs": [
    {
     "data": {
      "text/plain": [
       "103.86"
      ]
     },
     "execution_count": 22,
     "metadata": {},
     "output_type": "execute_result"
    }
   ],
   "source": [
    "round(bi_american_call + 101 * np.exp(-0.5 * (0.25/10)), 2)"
   ]
  },
  {
   "cell_type": "code",
   "execution_count": 23,
   "metadata": {},
   "outputs": [
    {
     "data": {
      "text/plain": [
       "104.02"
      ]
     },
     "execution_count": 23,
     "metadata": {},
     "output_type": "execute_result"
    }
   ],
   "source": [
    "round(S[0, 0] + bi_american_put, 2)"
   ]
  },
  {
   "cell_type": "markdown",
   "metadata": {},
   "source": [
    "The possible reasons why the two components of the put-call parity slightly differ are the eventual presence of dividends or transaction costs and taxes or it could simply be due to model errors but also on calculations and approximations."
   ]
  },
  {
   "cell_type": "markdown",
   "metadata": {},
   "source": [
    "## Question 13"
   ]
  },
  {
   "cell_type": "code",
   "execution_count": 24,
   "metadata": {},
   "outputs": [
    {
     "data": {
      "text/plain": [
       "True"
      ]
     },
     "execution_count": 24,
     "metadata": {},
     "output_type": "execute_result"
    }
   ],
   "source": [
    "euro_C, C, S, Delta = european_option(\n",
    "    100, 100, 3/12, .05, .2, 100, \"C\"\n",
    ")\n",
    "\n",
    "bi_american_call, C, S = american_option_vol(100, 100, 3/12, 0.05, 0.2, 100, \"C\")\n",
    "\n",
    "round(euro_C,2) <= round(bi_american_call,2)"
   ]
  },
  {
   "cell_type": "markdown",
   "metadata": {},
   "source": [
    "Here we proved that the price of the European call is less than or equal to the price of the American call.\n",
    "\n",
    "Now let us do the same also for put:"
   ]
  },
  {
   "cell_type": "markdown",
   "metadata": {},
   "source": [
    "## Question 14"
   ]
  },
  {
   "cell_type": "code",
   "execution_count": 25,
   "metadata": {},
   "outputs": [
    {
     "data": {
      "text/plain": [
       "True"
      ]
     },
     "execution_count": 25,
     "metadata": {},
     "output_type": "execute_result"
    }
   ],
   "source": [
    "euro_P, P, S, Delta = european_option(\n",
    "    100, 100, 3/12, .05, .2, 100, \"P\"\n",
    ")\n",
    "\n",
    "bi_american_put, P, S = american_option_vol(100, 100, 3/12, 0.05, 0.2, 100, \"P\")\n",
    "\n",
    "round(euro_P,2) <= round(bi_american_put,2)"
   ]
  },
  {
   "cell_type": "markdown",
   "metadata": {},
   "source": [
    "Also in the put option case, the European put price is lower than the American put price."
   ]
  },
  {
   "cell_type": "markdown",
   "metadata": {
    "id": "Bmz4H7Pr06Ef"
   },
   "source": [
    "# Step 2"
   ]
  },
  {
   "cell_type": "markdown",
   "metadata": {
    "id": "enVeXtsE1CJZ"
   },
   "source": [
    "Be the following different prices for the different selected strikes OTM, OTM, ATM, ITM, deep OTM = 80 , OTM = 90 , ATM = 100, ITM = 105 , deep ITM = 110\n",
    "\n",
    "## Question 15"
   ]
  },
  {
   "cell_type": "code",
   "execution_count": 26,
   "metadata": {},
   "outputs": [],
   "source": [
    "def _gen_stock_vec(nb, h):\n",
    "    s0 = 100\n",
    "    sigma = 0.2\n",
    "    up = np.exp(sigma * np.sqrt(2 * h))\n",
    "    down = 1 / up  # down movement to force a \"recombining tree\"\n",
    "\n",
    "    vec_u = up * np.ones(nb)\n",
    "    np.cumprod(vec_u, out=vec_u)  # Computing u, u^2, u^3....u^nb\n",
    "\n",
    "    vec_d = down * np.ones(nb)\n",
    "    np.cumprod(vec_d, out=vec_d)  # Computing d, d^2, d^3....d^nb\n",
    "\n",
    "    res = np.concatenate(\n",
    "        (vec_d[::-1], [1.0], vec_u)\n",
    "    )  # putting together the last period tree underlyings\n",
    "    res *= s0\n",
    "    return res"
   ]
  },
  {
   "cell_type": "code",
   "execution_count": 27,
   "metadata": {},
   "outputs": [],
   "source": [
    "def price(\n",
    "    nb_steps,K\n",
    "):  # For now, the only input to the function is the number of steps for the tree, N.\n",
    "    # Define parameters\n",
    "    r = 0.05\n",
    "    sigma = 0.2\n",
    "    T = 1/4\n",
    "    K = K\n",
    "    h = T / nb_steps  # This would be our 'dt' from previous examples\n",
    "    discount = np.exp(-r * h)  # Define discount factor for simplicity later on\n",
    "\n",
    "    # Define risk-neutral probabilities:\n",
    "    pu = (\n",
    "        (np.exp(r * h / 2) - np.exp(-sigma * np.sqrt(h / 2)))\n",
    "        / (np.exp(sigma * np.sqrt(h / 2)) - np.exp(-sigma * np.sqrt(h / 2)))\n",
    "    ) ** 2\n",
    "    pd = (\n",
    "        (-np.exp(r * h / 2) + np.exp(sigma * np.sqrt(h / 2)))\n",
    "        / (np.exp(sigma * np.sqrt(h / 2)) - np.exp(-sigma * np.sqrt(h / 2)))\n",
    "    ) ** 2\n",
    "    pm = 1 - pu - pd\n",
    "    print(pu, pd, pm)\n",
    "    # This would be our underlying evolution (Note we are using the function from before!)\n",
    "    s = _gen_stock_vec(nb_steps, h)\n",
    "\n",
    "    # Define Payoff (in this case, European Call Option)\n",
    "    final_payoff = np.maximum(s - K, 0)\n",
    "    nxt_vec_prices = final_payoff\n",
    "\n",
    "    # Proceed with iterations for the calculation of payoffs\n",
    "    for i in range(1, nb_steps + 1):\n",
    "        vec_stock = _gen_stock_vec(nb_steps - i, h)\n",
    "        expectation = np.zeros(vec_stock.size)\n",
    "\n",
    "        for j in range(expectation.size):\n",
    "            tmp = nxt_vec_prices[j] * pd\n",
    "            tmp += nxt_vec_prices[j + 1] * pm\n",
    "            tmp += nxt_vec_prices[j + 2] * pu\n",
    "\n",
    "            expectation[j] = tmp\n",
    "        # Discount option payoff!\n",
    "        nxt_vec_prices = discount * expectation\n",
    "\n",
    "    return nxt_vec_prices[\n",
    "        0\n",
    "    ]  # Notice here we only 'return' the expected discounted value of the option at t=0, that is, the price of the call option!"
   ]
  },
  {
   "cell_type": "markdown",
   "metadata": {
    "id": "XinImTlO1L2e"
   },
   "source": [
    "K  = 80"
   ]
  },
  {
   "cell_type": "code",
   "execution_count": 28,
   "metadata": {
    "colab": {
     "base_uri": "https://localhost:8080/"
    },
    "executionInfo": {
     "elapsed": 13,
     "status": "ok",
     "timestamp": 1691667645883,
     "user": {
      "displayName": "Alberto Mameli",
      "userId": "07616004484567234507"
     },
     "user_tz": -120
    },
    "id": "JlO9SZ3B1PQM",
    "outputId": "6b278619-da22-4b57-fe9b-7e0ae685d44a"
   },
   "outputs": [
    {
     "name": "stdout",
     "output_type": "stream",
     "text": [
      "0.25265879090156346 0.24735527275082417 0.49998593634761246\n",
      " Price of the Euro Call Option is  21.021014824677586\n"
     ]
    }
   ],
   "source": [
    "print(\" Price of the Euro Call Option is \", price(100,80))"
   ]
  },
  {
   "cell_type": "markdown",
   "metadata": {
    "id": "ox6_mSpm1P-W"
   },
   "source": [
    "K = 90"
   ]
  },
  {
   "cell_type": "code",
   "execution_count": 29,
   "metadata": {
    "colab": {
     "base_uri": "https://localhost:8080/"
    },
    "executionInfo": {
     "elapsed": 12,
     "status": "ok",
     "timestamp": 1691667645883,
     "user": {
      "displayName": "Alberto Mameli",
      "userId": "07616004484567234507"
     },
     "user_tz": -120
    },
    "id": "0AaZiYv51TpI",
    "outputId": "29ff8e1b-6419-48c6-c541-caed89ab54a6"
   },
   "outputs": [
    {
     "name": "stdout",
     "output_type": "stream",
     "text": [
      "0.25265879090156346 0.24735527275082417 0.49998593634761246\n",
      " Price of the Euro Call Option is  11.671659661118111\n"
     ]
    }
   ],
   "source": [
    "print(\" Price of the Euro Call Option is \", price(100,90))"
   ]
  },
  {
   "cell_type": "markdown",
   "metadata": {
    "id": "WIag54T51kBL"
   },
   "source": [
    "K = 100"
   ]
  },
  {
   "cell_type": "code",
   "execution_count": 30,
   "metadata": {
    "colab": {
     "base_uri": "https://localhost:8080/"
    },
    "executionInfo": {
     "elapsed": 12,
     "status": "ok",
     "timestamp": 1691667645883,
     "user": {
      "displayName": "Alberto Mameli",
      "userId": "07616004484567234507"
     },
     "user_tz": -120
    },
    "id": "uR7Ftrdo1gW-",
    "outputId": "7e9a59fe-b375-40f5-990a-07f535bdc1c3"
   },
   "outputs": [
    {
     "name": "stdout",
     "output_type": "stream",
     "text": [
      "0.25265879090156346 0.24735527275082417 0.49998593634761246\n",
      " Price of the Euro Call Option is  4.610008441656123\n"
     ]
    }
   ],
   "source": [
    "print(\" Price of the Euro Call Option is \", price(100,100))"
   ]
  },
  {
   "cell_type": "markdown",
   "metadata": {
    "id": "oPQyonFZ1nS-"
   },
   "source": [
    "K = 105"
   ]
  },
  {
   "cell_type": "code",
   "execution_count": 31,
   "metadata": {
    "colab": {
     "base_uri": "https://localhost:8080/"
    },
    "executionInfo": {
     "elapsed": 11,
     "status": "ok",
     "timestamp": 1691667645883,
     "user": {
      "displayName": "Alberto Mameli",
      "userId": "07616004484567234507"
     },
     "user_tz": -120
    },
    "id": "HSdKD46b1hXP",
    "outputId": "35316af0-6478-41cf-9a8b-06e06b373e43"
   },
   "outputs": [
    {
     "name": "stdout",
     "output_type": "stream",
     "text": [
      "0.25265879090156346 0.24735527275082417 0.49998593634761246\n",
      " Price of the Euro Call Option is  2.481895345754073\n"
     ]
    }
   ],
   "source": [
    "print(\" Price of the Euro Call Option is \", price(100,105))"
   ]
  },
  {
   "cell_type": "markdown",
   "metadata": {
    "id": "tnqFK-2r1nwi"
   },
   "source": [
    "K = 110"
   ]
  },
  {
   "cell_type": "code",
   "execution_count": 32,
   "metadata": {
    "colab": {
     "base_uri": "https://localhost:8080/"
    },
    "executionInfo": {
     "elapsed": 11,
     "status": "ok",
     "timestamp": 1691667645883,
     "user": {
      "displayName": "Alberto Mameli",
      "userId": "07616004484567234507"
     },
     "user_tz": -120
    },
    "id": "b_eWKjN91gCu",
    "outputId": "d54ae41e-96d1-457b-8186-0b55270d6c63"
   },
   "outputs": [
    {
     "name": "stdout",
     "output_type": "stream",
     "text": [
      "0.25265879090156346 0.24735527275082417 0.49998593634761246\n",
      " Price of the Euro Call Option is  1.191764482844416\n"
     ]
    }
   ],
   "source": [
    "print(\" Price of the Euro Call Option is \", price(100,110))"
   ]
  },
  {
   "cell_type": "markdown",
   "metadata": {
    "id": "RM55IL5s1ud7"
   },
   "source": [
    "### Question 15b\n",
    "\n",
    "The observations made show that as the strike price rises, the price of the european call option falls.\n",
    "These observations make sense because for a call option, the more the strike price rises, the more the call option price falls."
   ]
  },
  {
   "cell_type": "markdown",
   "metadata": {},
   "source": [
    "## Question 16"
   ]
  },
  {
   "cell_type": "code",
   "execution_count": 33,
   "metadata": {},
   "outputs": [],
   "source": [
    "def put_price(\n",
    "    nb_steps,K\n",
    "):  # For now, the only input to the function is the number of steps for the tree, N.\n",
    "    # Define parameters\n",
    "    r = 0.05\n",
    "    sigma = 0.2\n",
    "    T = 1/4\n",
    "    K = K\n",
    "    h = T / nb_steps  # This would be our 'dt' from previous examples\n",
    "    discount = np.exp(-r * h)  # Define discount factor for simplicity later on\n",
    "\n",
    "    # Define risk-neutral probabilities:\n",
    "    pu = (\n",
    "        (np.exp(r * h / 2) - np.exp(-sigma * np.sqrt(h / 2)))\n",
    "        / (np.exp(sigma * np.sqrt(h / 2)) - np.exp(-sigma * np.sqrt(h / 2)))\n",
    "    ) ** 2\n",
    "    pd = (\n",
    "        (-np.exp(r * h / 2) + np.exp(sigma * np.sqrt(h / 2)))\n",
    "        / (np.exp(sigma * np.sqrt(h / 2)) - np.exp(-sigma * np.sqrt(h / 2)))\n",
    "    ) ** 2\n",
    "    pm = 1 - pu - pd\n",
    "    print(pu, pd, pm)\n",
    "    # This would be our underlying evolution (Note we are using the function from before!)\n",
    "    s = _gen_stock_vec(nb_steps, h)\n",
    "\n",
    "    # Define Payoff (in this case, European Call Option)\n",
    "    final_payoff = np.maximum(K - s, 0)\n",
    "    nxt_vec_prices = final_payoff\n",
    "\n",
    "    # Proceed with iterations for the calculation of payoffs\n",
    "    for i in range(1, nb_steps + 1):\n",
    "        vec_stock = _gen_stock_vec(nb_steps - i, h)\n",
    "        expectation = np.zeros(vec_stock.size)\n",
    "\n",
    "        for j in range(expectation.size):\n",
    "            tmp = nxt_vec_prices[j] * pd\n",
    "            tmp += nxt_vec_prices[j + 1] * pm\n",
    "            tmp += nxt_vec_prices[j + 2] * pu\n",
    "\n",
    "            expectation[j] = tmp\n",
    "        # Discount option payoff!\n",
    "        nxt_vec_prices = discount * expectation\n",
    "\n",
    "    return nxt_vec_prices[\n",
    "        0\n",
    "    ]  # Notice here we only 'return' the expected discounted value of the option at t=0, that is, the price of the call option!"
   ]
  },
  {
   "cell_type": "code",
   "execution_count": 34,
   "metadata": {},
   "outputs": [
    {
     "name": "stdout",
     "output_type": "stream",
     "text": [
      "0.25265879090156346 0.24735527275082417 0.49998593634761246\n",
      " Price of the Euro Put Option is  0.02723886418638195\n"
     ]
    }
   ],
   "source": [
    "# K = 80\n",
    "\n",
    "print(\" Price of the Euro Put Option is \", put_price(100,80))"
   ]
  },
  {
   "cell_type": "code",
   "execution_count": 35,
   "metadata": {},
   "outputs": [
    {
     "name": "stdout",
     "output_type": "stream",
     "text": [
      "0.25265879090156346 0.24735527275082417 0.49998593634761246\n",
      " Price of the Euro Put Option is  0.5536617055658466\n"
     ]
    }
   ],
   "source": [
    "# K = 90\n",
    "\n",
    "print(\" Price of the Euro Put Option is \", put_price(100,90))"
   ]
  },
  {
   "cell_type": "code",
   "execution_count": 36,
   "metadata": {},
   "outputs": [
    {
     "name": "stdout",
     "output_type": "stream",
     "text": [
      "0.25265879090156346 0.24735527275082417 0.49998593634761246\n",
      " Price of the Euro Put Option is  3.3677884910428038\n"
     ]
    }
   ],
   "source": [
    "# K = 100\n",
    "\n",
    "print(\" Price of the Euro Put Option is \", put_price(100,100))"
   ]
  },
  {
   "cell_type": "code",
   "execution_count": 37,
   "metadata": {},
   "outputs": [
    {
     "name": "stdout",
     "output_type": "stream",
     "text": [
      "0.25265879090156346 0.24735527275082417 0.49998593634761246\n",
      " Price of the Euro Put Option is  6.1775643976102215\n"
     ]
    }
   ],
   "source": [
    "# K = 105\n",
    "\n",
    "print(\" Price of the Euro Put Option is \", put_price(100,105))"
   ]
  },
  {
   "cell_type": "code",
   "execution_count": 38,
   "metadata": {},
   "outputs": [
    {
     "name": "stdout",
     "output_type": "stream",
     "text": [
      "0.25265879090156346 0.24735527275082417 0.49998593634761246\n",
      " Price of the Euro Put Option is  9.825322537170033\n"
     ]
    }
   ],
   "source": [
    "# K = 110\n",
    "\n",
    "print(\" Price of the Euro Put Option is \", put_price(100,110))"
   ]
  },
  {
   "cell_type": "markdown",
   "metadata": {},
   "source": [
    "The trend that we observed running the trinomial model for European put option price for those five different strike prices is that the higher the strike price the higher the price of the put. It makes sense, because in the put the higher the strike price the more in the money the option is: if it is in the money, the price must be higher, otherwise if it was cheap then everyone would buy that option and exercise it almost immediately."
   ]
  },
  {
   "cell_type": "markdown",
   "metadata": {
    "id": "bRUOk50XO5uc"
   },
   "source": [
    "# Question 17-18"
   ]
  },
  {
   "cell_type": "code",
   "execution_count": 39,
   "metadata": {
    "executionInfo": {
     "elapsed": 24,
     "status": "ok",
     "timestamp": 1691667645880,
     "user": {
      "displayName": "Alberto Mameli",
      "userId": "07616004484567234507"
     },
     "user_tz": -120
    },
    "id": "GVokvmlIfAzs"
   },
   "outputs": [],
   "source": [
    "def _gen_stock_vec(nb, h):\n",
    "    s0 = 100\n",
    "    sigma = 0.2\n",
    "    up = np.exp(sigma * np.sqrt(2 * h))\n",
    "    down = 1 / up  # down movement to force a \"recombining tree\"\n",
    "\n",
    "    vec_u = up * np.ones(nb)\n",
    "    np.cumprod(vec_u, out=vec_u)  # Computing u, u^2, u^3....u^nb\n",
    "\n",
    "    vec_d = down * np.ones(nb)\n",
    "    np.cumprod(vec_d, out=vec_d)  # Computing d, d^2, d^3....d^nb\n",
    "\n",
    "    res = np.concatenate(\n",
    "        (vec_d[::-1], [1.0], vec_u)\n",
    "    )  # putting together the last period tree underlyings\n",
    "    res *= s0\n",
    "    return res\n",
    "def price(\n",
    "    K, nb_steps, opttype\n",
    "):  # For now, the only input to the function is the number of steps for the tree, N.\n",
    "    # Define parameters\n",
    "    r = 0\n",
    "    sigma = 0.2\n",
    "    T = 3/12\n",
    "    h = T / nb_steps  # This would be our 'dt' from previous examples\n",
    "    discount = np.exp(-r * h)  # Define discount factor for simplicity later on\n",
    "\n",
    "    # Define risk-neutral probabilities:\n",
    "    pu = (\n",
    "        (np.exp(r * h / 2) - np.exp(-sigma * np.sqrt(h / 2)))\n",
    "        / (np.exp(sigma * np.sqrt(h / 2)) - np.exp(-sigma * np.sqrt(h / 2)))\n",
    "    ) ** 2\n",
    "    pd = (\n",
    "        (-np.exp(r * h / 2) + np.exp(sigma * np.sqrt(h / 2)))\n",
    "        / (np.exp(sigma * np.sqrt(h / 2)) - np.exp(-sigma * np.sqrt(h / 2)))\n",
    "    ) ** 2\n",
    "    pm = 1 - pu - pd\n",
    "\n",
    "\n",
    "    # This would be our underlying evolution (Note we are using the function from before!)\n",
    "    s = _gen_stock_vec(nb_steps, h)\n",
    "\n",
    "    # Define Payoff (in this case, European Call Option)\n",
    "    if opttype == \"C\":\n",
    "      final_payoff = np.maximum(s - K, 0)\n",
    "    else:\n",
    "      final_payoff = np.maximum(K - s, 0)\n",
    "    nxt_vec_prices = final_payoff\n",
    "\n",
    "    # Proceed with iterations for the calculation of payoffs\n",
    "    for i in range(1, nb_steps + 1):\n",
    "        vec_stock = _gen_stock_vec(nb_steps - i, h)\n",
    "        expectation = np.zeros(vec_stock.size)\n",
    "\n",
    "        for j in range(expectation.size):\n",
    "          if opttype == \"C\":\n",
    "            intrinsic = np.maximum(vec_stock[j] - K, 0)\n",
    "          else:\n",
    "            intrinsic = np.maximum(K - vec_stock[j], 0)\n",
    "          tmp = nxt_vec_prices[j] * pd\n",
    "          tmp += nxt_vec_prices[j + 1] * pm\n",
    "          tmp += nxt_vec_prices[j + 2] * pu\n",
    "\n",
    "          expectation[j] = max(intrinsic, tmp * discount)\n",
    "\n",
    "        # Discount option payoff!\n",
    "        nxt_vec_prices = expectation\n",
    "\n",
    "    return nxt_vec_prices[0]  # Notice here we only 'return' the expected discounted value of the option at t=0, that is, the price of the call option!"
   ]
  },
  {
   "cell_type": "code",
   "execution_count": 40,
   "metadata": {
    "colab": {
     "base_uri": "https://localhost:8080/"
    },
    "executionInfo": {
     "elapsed": 24,
     "status": "ok",
     "timestamp": 1691667645881,
     "user": {
      "displayName": "Alberto Mameli",
      "userId": "07616004484567234507"
     },
     "user_tz": -120
    },
    "id": "K1RbJTGpxYjE",
    "outputId": "5483eac3-7403-41b5-8962-bdb0f8e8938c"
   },
   "outputs": [
    {
     "name": "stdout",
     "output_type": "stream",
     "text": [
      "Call option price is:\n",
      "K = 90% -> 10.71 \n",
      "K = 95% -> 6.9 \n",
      "K = ATM -> 3.98 \n",
      "K = 105% -> 2.07 \n",
      "K = 110% -> 0.96\n"
     ]
    }
   ],
   "source": [
    "american_call = round(price(100,50, \"C\"),2)\n",
    "print(\"Call option price is:\\nK = 90% -> {} \\nK = 95% -> {} \\nK = ATM -> {} \\nK = 105% -> {} \\nK = 110% -> {}\".format(round(price(90, 50, \"C\"),2),round(price(95, 50, \"C\"),2),american_call,round(price(105, 50, \"C\"),2),round(price(110, 50, \"C\"),2)))"
   ]
  },
  {
   "cell_type": "code",
   "execution_count": 41,
   "metadata": {
    "colab": {
     "base_uri": "https://localhost:8080/"
    },
    "executionInfo": {
     "elapsed": 23,
     "status": "ok",
     "timestamp": 1691667645881,
     "user": {
      "displayName": "Alberto Mameli",
      "userId": "07616004484567234507"
     },
     "user_tz": -120
    },
    "id": "pPEDZRJt24CJ",
    "outputId": "244d0aff-5ca9-45ed-f966-ee8c4b93cb49"
   },
   "outputs": [
    {
     "name": "stdout",
     "output_type": "stream",
     "text": [
      "Put option price is:\n",
      "K = 90% -> 0.71 \n",
      "K = 95% -> 1.9 \n",
      "K = ATM -> 3.98 \n",
      "K = 105% -> 7.07 \n",
      "K = 110% -> 10.96\n"
     ]
    }
   ],
   "source": [
    "american_put = round(price(100,50, \"P\"),2)\n",
    "print(\"Put option price is:\\nK = 90% -> {} \\nK = 95% -> {} \\nK = ATM -> {} \\nK = 105% -> {} \\nK = 110% -> {}\".format(round(price(90, 50, \"P\"),2),round(price(95, 50, \"P\"),2),american_put,round(price(105, 50, \"P\"),2),round(price(110, 50, \"P\"),2)))"
   ]
  },
  {
   "cell_type": "markdown",
   "metadata": {
    "id": "bAeF6X5ZVl09"
   },
   "source": [
    "We observe an increase in call prices when we decrease the strike, the opposite occurs for the put. The strike determines our payoff, which is the base for option pricing."
   ]
  },
  {
   "cell_type": "markdown",
   "metadata": {
    "id": "M-jr6Dp1wqAk"
   },
   "source": [
    "# Question 19"
   ]
  },
  {
   "cell_type": "code",
   "execution_count": 42,
   "metadata": {},
   "outputs": [],
   "source": [
    "def _gen_stock_vec(nb, h):\n",
    "    s0 = 100\n",
    "    sigma = 0.2\n",
    "    up = np.exp(sigma * np.sqrt(2 * h))\n",
    "    down = 1 / up  # down movement to force a \"recombining tree\"\n",
    "\n",
    "    vec_u = up * np.ones(nb)\n",
    "    np.cumprod(vec_u, out=vec_u)  # Computing u, u^2, u^3....u^nb\n",
    "\n",
    "    vec_d = down * np.ones(nb)\n",
    "    np.cumprod(vec_d, out=vec_d)  # Computing d, d^2, d^3....d^nb\n",
    "\n",
    "    res = np.concatenate(\n",
    "        (vec_d[::-1], [1.0], vec_u)\n",
    "    )  # putting together the last period tree underlyings\n",
    "    res *= s0\n",
    "    return res"
   ]
  },
  {
   "cell_type": "code",
   "execution_count": 43,
   "metadata": {},
   "outputs": [],
   "source": [
    "stock_prices = _gen_stock_vec(100,0.25/100)\n",
    "stock_prices = stock_prices[98:103]\n",
    "call_prices = [21.02,11.67,4.61,2.48,1.19]\n",
    "put_prices = [0.03,0.55,3.37,6.18,9.83]"
   ]
  },
  {
   "cell_type": "code",
   "execution_count": 44,
   "metadata": {
    "executionInfo": {
     "elapsed": 10,
     "status": "ok",
     "timestamp": 1691667645883,
     "user": {
      "displayName": "Alberto Mameli",
      "userId": "07616004484567234507"
     },
     "user_tz": -120
    },
    "id": "21Wp-BBRwsgg"
   },
   "outputs": [
    {
     "data": {
      "image/png": "[encoded data removed]",
      "text/plain": [
       "<Figure size 720x432 with 1 Axes>"
      ]
     },
     "metadata": {
      "needs_background": "light"
     },
     "output_type": "display_data"
    }
   ],
   "source": [
    "import matplotlib.pyplot as plt\n",
    "\n",
    "plt.figure(figsize=(10, 6))\n",
    "plt.plot(stock_prices, call_prices, label='Call Option')\n",
    "plt.plot(stock_prices, put_prices, label='Put Option')\n",
    "plt.xlabel('Stock Price')\n",
    "plt.ylabel('Option Price')\n",
    "plt.title('European Option Prices vs Stock Price')\n",
    "plt.legend()\n",
    "plt.grid(True)\n",
    "plt.show()"
   ]
  },
  {
   "cell_type": "markdown",
   "metadata": {},
   "source": [
    "# Question 20"
   ]
  },
  {
   "cell_type": "code",
   "execution_count": 45,
   "metadata": {},
   "outputs": [],
   "source": [
    "am_call_prices = [10.71,6.9,3.98,2.07,0.96]\n",
    "am_put_prices = [0.71,1.9,3.98,7.07,10.96]"
   ]
  },
  {
   "cell_type": "code",
   "execution_count": 46,
   "metadata": {},
   "outputs": [
    {
     "data": {
      "image/png": "[encoded data removed]",
      "text/plain": [
       "<Figure size 720x432 with 1 Axes>"
      ]
     },
     "metadata": {
      "needs_background": "light"
     },
     "output_type": "display_data"
    }
   ],
   "source": [
    "plt.figure(figsize=(10, 6))\n",
    "plt.plot(stock_prices, am_call_prices, label='Call Option')\n",
    "plt.plot(stock_prices, am_put_prices, label='Put Option')\n",
    "plt.xlabel('Stock Price')\n",
    "plt.ylabel('Option Price')\n",
    "plt.title('American Option Prices vs Stock Price')\n",
    "plt.legend()\n",
    "plt.grid(True)\n",
    "plt.show()"
   ]
  },
  {
   "cell_type": "markdown",
   "metadata": {},
   "source": [
    "# Question 21"
   ]
  },
  {
   "cell_type": "code",
   "execution_count": 47,
   "metadata": {},
   "outputs": [
    {
     "data": {
      "image/png": "[encoded data removed]",
      "text/plain": [
       "<Figure size 720x432 with 1 Axes>"
      ]
     },
     "metadata": {
      "needs_background": "light"
     },
     "output_type": "display_data"
    }
   ],
   "source": [
    "strike_prices = [80,90,100,105,110]\n",
    "\n",
    "plt.figure(figsize=(10, 6))\n",
    "plt.plot(strike_prices, call_prices, label='European Call Option')\n",
    "plt.plot(strike_prices, am_call_prices, label='American Call Option')\n",
    "plt.xlabel('Strike Price')\n",
    "plt.ylabel('Option Price')\n",
    "plt.title('European/American Option Prices vs Strike Price')\n",
    "plt.legend()\n",
    "plt.grid(True)\n",
    "plt.show()"
   ]
  },
  {
   "cell_type": "markdown",
   "metadata": {},
   "source": [
    "The European prices higher than the American prices are due to a misalignment in strike prices used by the two team members."
   ]
  },
  {
   "cell_type": "markdown",
   "metadata": {},
   "source": [
    "# Question 22"
   ]
  },
  {
   "cell_type": "code",
   "execution_count": 48,
   "metadata": {},
   "outputs": [
    {
     "data": {
      "image/png": "[encoded data removed]",
      "text/plain": [
       "<Figure size 720x432 with 1 Axes>"
      ]
     },
     "metadata": {
      "needs_background": "light"
     },
     "output_type": "display_data"
    }
   ],
   "source": [
    "plt.figure(figsize=(10, 6))\n",
    "plt.plot(strike_prices, put_prices, label='European Put Option')\n",
    "plt.plot(strike_prices, am_put_prices, label='American Put Option')\n",
    "plt.xlabel('Strike Price')\n",
    "plt.ylabel('Option Price')\n",
    "plt.title('European/American Option Prices vs Strike Price')\n",
    "plt.legend()\n",
    "plt.grid(True)\n",
    "plt.show()"
   ]
  },
  {
   "cell_type": "markdown",
   "metadata": {},
   "source": [
    "# Question 23"
   ]
  },
  {
   "cell_type": "code",
   "execution_count": 51,
   "metadata": {},
   "outputs": [
    {
     "name": "stdout",
     "output_type": "stream",
     "text": [
      "3.878864122760092\n",
      "2.63683087843485\n",
      "1.3650781575622517\n",
      "0.007071195476001435\n",
      "-1.3712209568673615\n"
     ]
    }
   ],
   "source": [
    "for i in range(len(strike_prices)):\n",
    "    print((call_prices[i] + strike_prices[i]*np.exp(0.5*(0.25/100)) - (put_prices[i] + stock_prices[i])))"
   ]
  },
  {
   "cell_type": "markdown",
   "metadata": {},
   "source": [
    "# Question 24"
   ]
  },
  {
   "cell_type": "code",
   "execution_count": 52,
   "metadata": {},
   "outputs": [
    {
     "name": "stdout",
     "output_type": "stream",
     "text": [
      "-7.111135877239889\n",
      "-3.4831691215651546\n",
      "0.12507815756225682\n",
      "-1.2929288045239957\n",
      "-2.731220956867375\n"
     ]
    }
   ],
   "source": [
    "for i in range(len(strike_prices)):\n",
    "    print((am_call_prices[i] + strike_prices[i]*np.exp(0.5*(0.25/100)) - (am_put_prices[i] + stock_prices[i])))"
   ]
  },
  {
   "cell_type": "markdown",
   "metadata": {
    "id": "Sm3Ph2wyARBn"
   },
   "source": [
    "# Step 3"
   ]
  },
  {
   "cell_type": "markdown",
   "metadata": {
    "id": "2SInPl8KAlky"
   },
   "source": [
    "### Question 25a"
   ]
  },
  {
   "cell_type": "code",
   "execution_count": 53,
   "metadata": {
    "executionInfo": {
     "elapsed": 10,
     "status": "ok",
     "timestamp": 1691667645883,
     "user": {
      "displayName": "Alberto Mameli",
      "userId": "07616004484567234507"
     },
     "user_tz": -120
    },
    "id": "t5Cqt9AN__U-"
   },
   "outputs": [],
   "source": [
    "def european_option(S_ini, K, T, r, sigma, N, opttype):\n",
    "    dt = T / N  # Define time step\n",
    "    u = np.exp(sigma * np.sqrt(2 * dt))\n",
    "    d = 1 / u  # down movement to force a \"recombining tree\"\n",
    "    p = (np.exp(r * dt) - d) / (u - d)  # risk neutral probs\n",
    "    C = np.zeros([N + 1, N + 1])  # call prices\n",
    "    S = np.zeros([N + 1, N + 1])  # underlying price\n",
    "    Delta = np.zeros([N, N])  # delta\n",
    "\n",
    "    for i in range(0, N + 1):\n",
    "        S[N, i] = S_ini * (u ** (i)) * (d ** (N - i))\n",
    "        if opttype == \"C\":\n",
    "            C[N, i] = max(S[N, i] - K, 0)\n",
    "        else:\n",
    "            C[N, i] = max(K - S[N, i], 0)\n",
    "\n",
    "    for j in range(N - 1, -1, -1):\n",
    "        for i in range(0, j + 1):\n",
    "            C[j, i] = np.exp(-r * dt) * (\n",
    "                p * C[j + 1, i + 1] + (1 - p) * C[j + 1, i]\n",
    "            )  # Computing the European option prices\n",
    "            S[j, i] = (\n",
    "                S_ini * (u ** (i)) * (d ** (j - i))\n",
    "            )  # Underlying evolution for each node\n",
    "\n",
    "            Delta[j, i] = (C[j + 1, i + 1] - C[j + 1, i]) / (\n",
    "                S[j + 1, i + 1] - S[j + 1, i]\n",
    "            )  # Computing the delta for each node\n",
    "\n",
    "    return C[0, 0], C, S, Delta"
   ]
  },
  {
   "cell_type": "code",
   "execution_count": 54,
   "metadata": {
    "colab": {
     "base_uri": "https://localhost:8080/"
    },
    "executionInfo": {
     "elapsed": 9,
     "status": "ok",
     "timestamp": 1691667645883,
     "user": {
      "displayName": "Alberto Mameli",
      "userId": "07616004484567234507"
     },
     "user_tz": -120
    },
    "id": "vmRBsDTbCmGp",
    "outputId": "882ee0b5-845c-4d0f-bc96-a5a0709050c6"
   },
   "outputs": [
    {
     "name": "stdout",
     "output_type": "stream",
     "text": [
      "Put price with 3-step binomial tree = 19.5\n"
     ]
    }
   ],
   "source": [
    "price_euro, C_euro, S_euro, delta_euro = european_option(180,182,6/12,.02,.25,3,\"P\")\n",
    "print(\"Put price with 3-step binomial tree = {}\".format(round(price_euro,2)))"
   ]
  },
  {
   "cell_type": "markdown",
   "metadata": {
    "id": "2Fp2NHRwGmIh"
   },
   "source": [
    "### Question 25b.i"
   ]
  },
  {
   "cell_type": "code",
   "execution_count": 55,
   "metadata": {
    "colab": {
     "base_uri": "https://localhost:8080/"
    },
    "executionInfo": {
     "elapsed": 10,
     "status": "ok",
     "timestamp": 1691667645884,
     "user": {
      "displayName": "Alberto Mameli",
      "userId": "07616004484567234507"
     },
     "user_tz": -120
    },
    "id": "VTT2hUy2HEyA",
    "outputId": "e57275b7-98b1-4aa9-8aa3-73fdc1447879"
   },
   "outputs": [
    {
     "name": "stdout",
     "output_type": "stream",
     "text": [
      "Put delta with 3-step binomial tree = \n",
      "[[-0.45364714  0.          0.        ]\n",
      " [-0.72752347 -0.22730162  0.        ]\n",
      " [-1.         -0.50233482  0.        ]]\n"
     ]
    }
   ],
   "source": [
    "print(\"Put delta with 3-step binomial tree = \\n{}\".format(delta_euro))"
   ]
  },
  {
   "cell_type": "markdown",
   "metadata": {
    "id": "nsgZj74rHbRx"
   },
   "source": [
    "Delta hedging as a Put option seller involves:\n",
    "Selling a Put option, creating an obligation to buy the underlying.\n",
    "Calculating the option's negative delta, indicating its sensitivity to underlying price shifts.\n",
    "Selling a matching amount of the underlying to counter the negative delta and mitigate risk.\n",
    "Continuously adjusting the underlying position to offset delta changes and sustain the hedge."
   ]
  },
  {
   "cell_type": "markdown",
   "metadata": {
    "id": "GTsvMCB0Gr5e"
   },
   "source": [
    "### Question 25b.ii\n",
    "\n",
    "As a seller of the put we delta hedge by selling the underlying, with 100 share for each put we should buy/sell(-):\n"
   ]
  },
  {
   "cell_type": "code",
   "execution_count": 56,
   "metadata": {
    "executionInfo": {
     "elapsed": 9,
     "status": "ok",
     "timestamp": 1691667645884,
     "user": {
      "displayName": "Alberto Mameli",
      "userId": "07616004484567234507"
     },
     "user_tz": -120
    },
    "id": "--rvUqvRJup1"
   },
   "outputs": [],
   "source": [
    "#                      22shares\n",
    "#            23shares\n",
    "# -45shares           -28shares/22shares\n",
    "#           -27shares\n",
    "#                     -28shares"
   ]
  },
  {
   "cell_type": "markdown",
   "metadata": {
    "id": "mirH0cLGCaiG"
   },
   "source": [
    "### Question 26a"
   ]
  },
  {
   "cell_type": "code",
   "execution_count": null,
   "metadata": {},
   "outputs": [],
   "source": []
  }
 ],
 "metadata": {
  "colab": {
   "authorship_tag": "ABX9TyN1FwZT43sApD6ncRvT+LR5",
   "collapsed_sections": [
    "Bmz4H7Pr06Ef"
   ],
   "provenance": [],
   "toc_visible": true
  },
  "kernelspec": {
   "display_name": "Python 3 (ipykernel)",
   "language": "python",
   "name": "python3"
  },
  "language_info": {
   "codemirror_mode": {
    "name": "ipython",
    "version": 3
   },
   "file_extension": ".py",
   "mimetype": "text/x-python",
   "name": "python",
   "nbconvert_exporter": "python",
   "pygments_lexer": "ipython3",
   "version": "3.9.12"
  }
 },
 "nbformat": 4,
 "nbformat_minor": 1
}
